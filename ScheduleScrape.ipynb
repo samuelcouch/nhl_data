{
 "metadata": {
  "name": "",
  "signature": "sha256:30d9a4f2bab0b57d0ade7221d4cd084bbe4fc11c4fa7c94c9ae280625e415b83"
 },
 "nbformat": 3,
 "nbformat_minor": 0,
 "worksheets": [
  {
   "cells": [
    {
     "cell_type": "code",
     "collapsed": false,
     "input": [
      "import requests\n",
      "import tablib\n",
      "import re\n",
      "from bs4 import BeautifulSoup\n",
      "from urlparse import urlparse\n",
      "import html5lib"
     ],
     "language": "python",
     "metadata": {},
     "outputs": []
    },
    {
     "cell_type": "code",
     "collapsed": false,
     "input": [
      "data = tablib.Dataset()\n",
      "\n",
      "data.headers = ['game date', 'away', 'home', 'espn id', 'home score', 'away score']\n",
      "\n",
      "root_url = 'http://scores.espn.go.com/nhl/scoreboard?date='\n",
      "\n",
      "month_schedule = {'oct': {'start': 20131001, 'end': 20131031},\n",
      "                  'nov': {'start': 20131101, 'end': 20131130},\n",
      "                  'dec': {'start': 20131201, 'end': 20131231},\n",
      "                  'jan': {'start': 20140101, 'end': 20140131},\n",
      "                  'feb': {'start': 20140201, 'end': 20140228},\n",
      "                  'mar': {'start': 20140301, 'end': 20140331},\n",
      "                  'apr': {'start': 20140401, 'end': 20140430},\n",
      "                  'may': {'start': 20140501, 'end': 20140531}}"
     ],
     "language": "python",
     "metadata": {},
     "outputs": []
    },
    {
     "cell_type": "code",
     "collapsed": false,
     "input": [
      "def games_for_day(soup):\n",
      "    return soup.find_all(id=re.compile('gamebox'))"
     ],
     "language": "python",
     "metadata": {},
     "outputs": []
    },
    {
     "cell_type": "code",
     "collapsed": false,
     "input": [
      "def extract_date(soup):\n",
      "    html = soup.find(class_=re.compile('key-dates'))\n",
      "    text = html.find('h2').text\n",
      "    date = text.split()[2:]\n",
      "    return ' '.join(date)"
     ],
     "language": "python",
     "metadata": {},
     "outputs": []
    },
    {
     "cell_type": "code",
     "collapsed": false,
     "input": [
      "def away(soup):\n",
      "    s = soup.find(id=re.compile('awayHeader')).find(class_='team-name').text\n",
      "    clean_text = s.split()\n",
      "    away_team = ' '.join(clean_text)\n",
      "    return away_team"
     ],
     "language": "python",
     "metadata": {},
     "outputs": []
    },
    {
     "cell_type": "code",
     "collapsed": false,
     "input": [
      "def home(soup):\n",
      "    s = soup.find(id=re.compile('homeHeader')).find(class_='team-name').text\n",
      "    clean_text= s.split()\n",
      "    home_team = ' '.join(clean_text)\n",
      "    return home_team"
     ],
     "language": "python",
     "metadata": {},
     "outputs": []
    },
    {
     "cell_type": "code",
     "collapsed": false,
     "input": [
      "def awayScore(gameID):\n",
      "    url = 'http://espn.go.com/nhl/playbyplay?gameId='+str(gameID)+'&period=0'\n",
      "    r = requests.get(url)\n",
      "    soup = BeautifulSoup(r.text, 'html5lib')\n",
      "    score = soup.find(class_='gp-awayScore').text\n",
      "    return score"
     ],
     "language": "python",
     "metadata": {},
     "outputs": [],
     "prompt_number": 1
    },
    {
     "cell_type": "code",
     "collapsed": false,
     "input": [
      "def homeScore(gameID):\n",
      "    url = 'http://espn.go.com/nhl/playbyplay?gameId='+str(gameID)+'&period=0'\n",
      "    r = requests.get(url)\n",
      "    soup = BeautifulSoup(r.text, 'html5lib')\n",
      "    score = soup.find(class_='gp-homeScore').text\n",
      "    return score"
     ],
     "language": "python",
     "metadata": {},
     "outputs": [],
     "prompt_number": 2
    },
    {
     "cell_type": "code",
     "collapsed": false,
     "input": [
      "def espn_id_link(soup):\n",
      "    links = soup.find(id=re.compile('gameLinks')).find_all('a')\n",
      "    for link in links:\n",
      "        if 'conversation' in link['href']:\n",
      "            text = link['href']\n",
      "    return text"
     ],
     "language": "python",
     "metadata": {},
     "outputs": []
    },
    {
     "cell_type": "code",
     "collapsed": false,
     "input": [
      "def espn_id(soup):\n",
      "    text = espn_id_link(soup).split('=')\n",
      "    espn_id = text[-1]\n",
      "    return espn_id"
     ],
     "language": "python",
     "metadata": {},
     "outputs": []
    },
    {
     "cell_type": "code",
     "collapsed": false,
     "input": [
      "team_names = {'Devils': 'NJD', 'Blackhawks': 'CHI', 'Islanders': 'NYI', \n",
      "              'Blue Jackets': 'CBJ', 'Rangers': 'NYR', 'Red Wings': 'DET', \n",
      "              'Flyers': 'PHI', 'Predators':'NSH', 'Penguins': 'PIT',\n",
      "              'Blues': 'STL', 'Bruins': 'BOS',  'Sabres': 'BUF',\n",
      "              'Avalanche': 'COL', 'Canadiens': 'MTL', 'Oilers': 'EDM', \n",
      "              'Senators': 'OTT', 'Wild': 'MIN', 'Maple Leafs': 'TOR', \n",
      "              'Canucks': 'VAN', 'Hurricanes': 'CAR', 'Ducks': 'ANA', \n",
      "              'Panthers': 'FLA', 'Stars': 'DAL', 'Lightning': 'TBL', \n",
      "              'Kings': 'LAK', 'Capitals': 'WSH', 'Coyotes': 'PHX', \n",
      "              'Jets': 'WPG', 'Sharks': 'SJS', 'Flames': 'CGY'}"
     ],
     "language": "python",
     "metadata": {},
     "outputs": []
    },
    {
     "cell_type": "code",
     "collapsed": false,
     "input": [
      "def make_schedule():\n",
      "    # Will make nhl schedule for games to be played\n",
      "    for month in month_schedule:\n",
      "        for day in range(month_schedule.get(month).get('start'), month_schedule.get(month).get('end')):\n",
      "            url = root_url + str(day)\n",
      "            r = requests.get(url)\n",
      "            soup = BeautifulSoup(r.text, 'html5lib')\n",
      "            for x in games_for_day(soup):\n",
      "                data.append([str(day), team_names.get(away(x)), team_names.get(home(x)), espn_id(x), homeScore(espn_id(x)), awayScore(espn_id(x))])"
     ],
     "language": "python",
     "metadata": {},
     "outputs": []
    },
    {
     "cell_type": "code",
     "collapsed": false,
     "input": [
      "make_schedule()"
     ],
     "language": "python",
     "metadata": {},
     "outputs": []
    },
    {
     "cell_type": "code",
     "collapsed": false,
     "input": [
      "open('20132014_games.xls', 'w').write(data.xls)"
     ],
     "language": "python",
     "metadata": {},
     "outputs": []
    },
    {
     "cell_type": "code",
     "collapsed": false,
     "input": [],
     "language": "python",
     "metadata": {},
     "outputs": []
    },
    {
     "cell_type": "code",
     "collapsed": false,
     "input": [],
     "language": "python",
     "metadata": {},
     "outputs": []
    }
   ],
   "metadata": {}
  }
 ]
}